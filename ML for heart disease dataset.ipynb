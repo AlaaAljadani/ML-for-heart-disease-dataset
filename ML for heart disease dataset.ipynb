{
 "cells": [
  {
   "cell_type": "code",
   "execution_count": 1,
   "metadata": {},
   "outputs": [],
   "source": [
    "#imprt the needed libraries \n",
    "import numpy as np\n",
    "import pandas as pd #data processing\n",
    "#import data\n",
    "data = pd.read_csv(\"heart.csv\")"
   ]
  },
  {
   "cell_type": "code",
   "execution_count": 2,
   "metadata": {},
   "outputs": [
    {
     "name": "stdout",
     "output_type": "stream",
     "text": [
      "<class 'pandas.core.frame.DataFrame'>\n",
      "RangeIndex: 303 entries, 0 to 302\n",
      "Data columns (total 14 columns):\n",
      "age         303 non-null int64\n",
      "sex         303 non-null int64\n",
      "cp          303 non-null int64\n",
      "trestbps    303 non-null int64\n",
      "chol        303 non-null int64\n",
      "fbs         303 non-null int64\n",
      "restecg     303 non-null int64\n",
      "thalach     303 non-null int64\n",
      "exang       303 non-null int64\n",
      "oldpeak     303 non-null float64\n",
      "slope       303 non-null int64\n",
      "ca          303 non-null int64\n",
      "thal        303 non-null int64\n",
      "target      303 non-null int64\n",
      "dtypes: float64(1), int64(13)\n",
      "memory usage: 33.3 KB\n"
     ]
    }
   ],
   "source": [
    "##view information about the data set\n",
    "data.info()"
   ]
  },
  {
   "cell_type": "code",
   "execution_count": 3,
   "metadata": {},
   "outputs": [],
   "source": [
    "#Split colum into feature and label\n",
    "X = data[['chol','cp','thalach','trestbps','thal','ca','slope','oldpeak', 'exang','restecg','fbs','sex','age']]\n",
    "y = data['target']"
   ]
  },
  {
   "cell_type": "code",
   "execution_count": 4,
   "metadata": {},
   "outputs": [
    {
     "data": {
      "text/html": [
       "<div>\n",
       "<style scoped>\n",
       "    .dataframe tbody tr th:only-of-type {\n",
       "        vertical-align: middle;\n",
       "    }\n",
       "\n",
       "    .dataframe tbody tr th {\n",
       "        vertical-align: top;\n",
       "    }\n",
       "\n",
       "    .dataframe thead th {\n",
       "        text-align: right;\n",
       "    }\n",
       "</style>\n",
       "<table border=\"1\" class=\"dataframe\">\n",
       "  <thead>\n",
       "    <tr style=\"text-align: right;\">\n",
       "      <th></th>\n",
       "      <th>age</th>\n",
       "      <th>sex</th>\n",
       "      <th>cp</th>\n",
       "      <th>trestbps</th>\n",
       "      <th>chol</th>\n",
       "      <th>fbs</th>\n",
       "      <th>restecg</th>\n",
       "      <th>thalach</th>\n",
       "      <th>exang</th>\n",
       "      <th>oldpeak</th>\n",
       "      <th>slope</th>\n",
       "      <th>ca</th>\n",
       "      <th>thal</th>\n",
       "      <th>target</th>\n",
       "    </tr>\n",
       "  </thead>\n",
       "  <tbody>\n",
       "    <tr>\n",
       "      <td>0</td>\n",
       "      <td>63</td>\n",
       "      <td>1</td>\n",
       "      <td>3</td>\n",
       "      <td>145</td>\n",
       "      <td>233</td>\n",
       "      <td>1</td>\n",
       "      <td>0</td>\n",
       "      <td>150</td>\n",
       "      <td>0</td>\n",
       "      <td>2.3</td>\n",
       "      <td>0</td>\n",
       "      <td>0</td>\n",
       "      <td>1</td>\n",
       "      <td>1</td>\n",
       "    </tr>\n",
       "    <tr>\n",
       "      <td>1</td>\n",
       "      <td>37</td>\n",
       "      <td>1</td>\n",
       "      <td>2</td>\n",
       "      <td>130</td>\n",
       "      <td>250</td>\n",
       "      <td>0</td>\n",
       "      <td>1</td>\n",
       "      <td>187</td>\n",
       "      <td>0</td>\n",
       "      <td>3.5</td>\n",
       "      <td>0</td>\n",
       "      <td>0</td>\n",
       "      <td>2</td>\n",
       "      <td>1</td>\n",
       "    </tr>\n",
       "    <tr>\n",
       "      <td>2</td>\n",
       "      <td>41</td>\n",
       "      <td>0</td>\n",
       "      <td>1</td>\n",
       "      <td>130</td>\n",
       "      <td>204</td>\n",
       "      <td>0</td>\n",
       "      <td>0</td>\n",
       "      <td>172</td>\n",
       "      <td>0</td>\n",
       "      <td>1.4</td>\n",
       "      <td>2</td>\n",
       "      <td>0</td>\n",
       "      <td>2</td>\n",
       "      <td>1</td>\n",
       "    </tr>\n",
       "    <tr>\n",
       "      <td>3</td>\n",
       "      <td>56</td>\n",
       "      <td>1</td>\n",
       "      <td>1</td>\n",
       "      <td>120</td>\n",
       "      <td>236</td>\n",
       "      <td>0</td>\n",
       "      <td>1</td>\n",
       "      <td>178</td>\n",
       "      <td>0</td>\n",
       "      <td>0.8</td>\n",
       "      <td>2</td>\n",
       "      <td>0</td>\n",
       "      <td>2</td>\n",
       "      <td>1</td>\n",
       "    </tr>\n",
       "    <tr>\n",
       "      <td>4</td>\n",
       "      <td>57</td>\n",
       "      <td>0</td>\n",
       "      <td>0</td>\n",
       "      <td>120</td>\n",
       "      <td>354</td>\n",
       "      <td>0</td>\n",
       "      <td>1</td>\n",
       "      <td>163</td>\n",
       "      <td>1</td>\n",
       "      <td>0.6</td>\n",
       "      <td>2</td>\n",
       "      <td>0</td>\n",
       "      <td>2</td>\n",
       "      <td>1</td>\n",
       "    </tr>\n",
       "    <tr>\n",
       "      <td>5</td>\n",
       "      <td>57</td>\n",
       "      <td>1</td>\n",
       "      <td>0</td>\n",
       "      <td>140</td>\n",
       "      <td>192</td>\n",
       "      <td>0</td>\n",
       "      <td>1</td>\n",
       "      <td>148</td>\n",
       "      <td>0</td>\n",
       "      <td>0.4</td>\n",
       "      <td>1</td>\n",
       "      <td>0</td>\n",
       "      <td>1</td>\n",
       "      <td>1</td>\n",
       "    </tr>\n",
       "    <tr>\n",
       "      <td>6</td>\n",
       "      <td>56</td>\n",
       "      <td>0</td>\n",
       "      <td>1</td>\n",
       "      <td>140</td>\n",
       "      <td>294</td>\n",
       "      <td>0</td>\n",
       "      <td>0</td>\n",
       "      <td>153</td>\n",
       "      <td>0</td>\n",
       "      <td>1.3</td>\n",
       "      <td>1</td>\n",
       "      <td>0</td>\n",
       "      <td>2</td>\n",
       "      <td>1</td>\n",
       "    </tr>\n",
       "    <tr>\n",
       "      <td>7</td>\n",
       "      <td>44</td>\n",
       "      <td>1</td>\n",
       "      <td>1</td>\n",
       "      <td>120</td>\n",
       "      <td>263</td>\n",
       "      <td>0</td>\n",
       "      <td>1</td>\n",
       "      <td>173</td>\n",
       "      <td>0</td>\n",
       "      <td>0.0</td>\n",
       "      <td>2</td>\n",
       "      <td>0</td>\n",
       "      <td>3</td>\n",
       "      <td>1</td>\n",
       "    </tr>\n",
       "    <tr>\n",
       "      <td>8</td>\n",
       "      <td>52</td>\n",
       "      <td>1</td>\n",
       "      <td>2</td>\n",
       "      <td>172</td>\n",
       "      <td>199</td>\n",
       "      <td>1</td>\n",
       "      <td>1</td>\n",
       "      <td>162</td>\n",
       "      <td>0</td>\n",
       "      <td>0.5</td>\n",
       "      <td>2</td>\n",
       "      <td>0</td>\n",
       "      <td>3</td>\n",
       "      <td>1</td>\n",
       "    </tr>\n",
       "    <tr>\n",
       "      <td>9</td>\n",
       "      <td>57</td>\n",
       "      <td>1</td>\n",
       "      <td>2</td>\n",
       "      <td>150</td>\n",
       "      <td>168</td>\n",
       "      <td>0</td>\n",
       "      <td>1</td>\n",
       "      <td>174</td>\n",
       "      <td>0</td>\n",
       "      <td>1.6</td>\n",
       "      <td>2</td>\n",
       "      <td>0</td>\n",
       "      <td>2</td>\n",
       "      <td>1</td>\n",
       "    </tr>\n",
       "  </tbody>\n",
       "</table>\n",
       "</div>"
      ],
      "text/plain": [
       "   age  sex  cp  trestbps  chol  fbs  restecg  thalach  exang  oldpeak  slope  \\\n",
       "0   63    1   3       145   233    1        0      150      0      2.3      0   \n",
       "1   37    1   2       130   250    0        1      187      0      3.5      0   \n",
       "2   41    0   1       130   204    0        0      172      0      1.4      2   \n",
       "3   56    1   1       120   236    0        1      178      0      0.8      2   \n",
       "4   57    0   0       120   354    0        1      163      1      0.6      2   \n",
       "5   57    1   0       140   192    0        1      148      0      0.4      1   \n",
       "6   56    0   1       140   294    0        0      153      0      1.3      1   \n",
       "7   44    1   1       120   263    0        1      173      0      0.0      2   \n",
       "8   52    1   2       172   199    1        1      162      0      0.5      2   \n",
       "9   57    1   2       150   168    0        1      174      0      1.6      2   \n",
       "\n",
       "   ca  thal  target  \n",
       "0   0     1       1  \n",
       "1   0     2       1  \n",
       "2   0     2       1  \n",
       "3   0     2       1  \n",
       "4   0     2       1  \n",
       "5   0     1       1  \n",
       "6   0     2       1  \n",
       "7   0     3       1  \n",
       "8   0     3       1  \n",
       "9   0     2       1  "
      ]
     },
     "execution_count": 4,
     "metadata": {},
     "output_type": "execute_result"
    }
   ],
   "source": [
    "#view top 10 rows\n",
    "data.head(10)"
   ]
  },
  {
   "cell_type": "code",
   "execution_count": 5,
   "metadata": {},
   "outputs": [],
   "source": [
    "#perform training and test split.We split data on 20% in the test dataset, the remaining 80% in the training dataset\n",
    "from sklearn.model_selection import train_test_split\n",
    "X_train, X_test, y_train, y_test = train_test_split(X,y,test_size=0.2)"
   ]
  },
  {
   "cell_type": "code",
   "execution_count": 6,
   "metadata": {},
   "outputs": [],
   "source": [
    "#feature scaling\n",
    "from sklearn.preprocessing import StandardScaler\n",
    "sc_x=StandardScaler()\n",
    "X_train=sc_x.fit_transform(X_train)\n",
    "X_test=sc_x.transform(X_test)"
   ]
  },
  {
   "cell_type": "code",
   "execution_count": 7,
   "metadata": {},
   "outputs": [
    {
     "data": {
      "text/plain": [
       "array([[ 0.31633659,  2.0440217 , -0.75655793, ..., -0.41119597,\n",
       "         0.69617712, -1.07549434],\n",
       "       [-0.80095086, -0.94181282, -1.80777525, ..., -0.41119597,\n",
       "         0.69617712, -0.07531216],\n",
       "       [-1.35959459,  1.04874353,  0.46986229, ..., -0.41119597,\n",
       "        -1.43641607, -0.96436299],\n",
       "       ...,\n",
       "       [ 0.35486374,  0.05346536,  0.95167023, ..., -0.41119597,\n",
       "         0.69617712, -0.63096893],\n",
       "       [-0.6853694 , -0.94181282, -0.75655793, ..., -0.41119597,\n",
       "         0.69617712,  1.03600138],\n",
       "       [-0.1074621 ,  1.04874353, -0.01194565, ..., -0.41119597,\n",
       "        -1.43641607, -1.1866257 ]])"
      ]
     },
     "execution_count": 7,
     "metadata": {},
     "output_type": "execute_result"
    }
   ],
   "source": [
    "#X_train after scalling\n",
    "X_train"
   ]
  },
  {
   "cell_type": "code",
   "execution_count": 8,
   "metadata": {},
   "outputs": [
    {
     "data": {
      "text/plain": [
       "RandomForestClassifier(bootstrap=True, ccp_alpha=0.0, class_weight=None,\n",
       "                       criterion='gini', max_depth=None, max_features='auto',\n",
       "                       max_leaf_nodes=None, max_samples=None,\n",
       "                       min_impurity_decrease=0.0, min_impurity_split=None,\n",
       "                       min_samples_leaf=1, min_samples_split=2,\n",
       "                       min_weight_fraction_leaf=0.0, n_estimators=100,\n",
       "                       n_jobs=None, oob_score=False, random_state=None,\n",
       "                       verbose=0, warm_start=False)"
      ]
     },
     "execution_count": 8,
     "metadata": {},
     "output_type": "execute_result"
    }
   ],
   "source": [
    "#train our firt model witch is Random Forest \n",
    "from sklearn.ensemble import RandomForestClassifier\n",
    "RF = RandomForestClassifier()\n",
    "RF.fit(X_train, y_train)"
   ]
  },
  {
   "cell_type": "code",
   "execution_count": 9,
   "metadata": {},
   "outputs": [
    {
     "name": "stdout",
     "output_type": "stream",
     "text": [
      "Accuracy for Random Forest Classifier : 0.819672131147541\n"
     ]
    }
   ],
   "source": [
    "#Model Evaluation\n",
    "from sklearn.metrics import accuracy_score\n",
    "y_predicted = RF.predict(X_test)\n",
    "print(\"Accuracy for Random Forest Classifier :\",accuracy_score(y_test,y_predicted))"
   ]
  },
  {
   "cell_type": "code",
   "execution_count": 10,
   "metadata": {},
   "outputs": [
    {
     "name": "stdout",
     "output_type": "stream",
     "text": [
      "Precision: 0.7894736842105263\n",
      "Recall: 0.9090909090909091\n",
      "F1 score: 0.8450704225352113\n",
      "Cross-Validation Score : 79.750%\n",
      "mean error 0.41554002348058994\n"
     ]
    }
   ],
   "source": [
    "#Model Evaluation\n",
    "from sklearn import metrics\n",
    "#Model Precision: what percentage of positive tuples are labeled as such?\n",
    "print(\"Precision:\",metrics.precision_score(y_test, y_predicted))\n",
    "# Model Recall: what percentage of positive tuples are labelled as such?\n",
    "print(\"Recall:\",metrics.recall_score(y_test, y_predicted))\n",
    "# F1 score is defined as the mean between precision and recall\n",
    "print(\"F1 score:\",metrics.f1_score(y_test, y_predicted))\n",
    "from sklearn.model_selection import cross_val_score\n",
    "cv_score = cross_val_score(RF, X_train, y_train, cv=10, scoring=\"accuracy\")\n",
    "print (\"Cross-Validation Score : %s\" % \"{0:.3%}\".format(np.mean(cv_score)))\n",
    "from math import sqrt\n",
    "from sklearn.metrics import mean_squared_error\n",
    "scores=cross_val_score(RF,X_train,y_train,scoring=\"neg_mean_squared_error\",cv=10)\n",
    "model_rmse_score=np.sqrt(-scores)\n",
    "#Random Forest mean error\n",
    "print(\"mean error\",model_rmse_score.mean())"
   ]
  },
  {
   "cell_type": "code",
   "execution_count": 11,
   "metadata": {},
   "outputs": [
    {
     "data": {
      "text/plain": [
       "array([[20,  8],\n",
       "       [ 3, 30]], dtype=int64)"
      ]
     },
     "execution_count": 11,
     "metadata": {},
     "output_type": "execute_result"
    }
   ],
   "source": [
    "#Model Evaluation\n",
    "#viwe the Confusion matrix\n",
    "from sklearn.metrics import confusion_matrix\n",
    "cm_RF = confusion_matrix(y_test, y_predicted)\n",
    "cm_RF"
   ]
  },
  {
   "cell_type": "code",
   "execution_count": 12,
   "metadata": {},
   "outputs": [
    {
     "data": {
      "text/plain": [
       "Text(95.72222222222221, 0.5, 'Truth')"
      ]
     },
     "execution_count": 12,
     "metadata": {},
     "output_type": "execute_result"
    }
   ],
   "source": [
    "import seaborn as sn\n",
    "import matplotlib.pyplot as plt\n",
    "plt.figure(figsize = (10,7))\n",
    "sn.heatmap(cm_RF, annot=True)\n",
    "plt.xlabel('Predicted')\n",
    "plt.ylabel('Truth')"
   ]
  },
  {
   "cell_type": "code",
   "execution_count": 13,
   "metadata": {},
   "outputs": [
    {
     "data": {
      "text/plain": [
       "LogisticRegression(C=1.0, class_weight=None, dual=False, fit_intercept=True,\n",
       "                   intercept_scaling=1, l1_ratio=None, max_iter=100,\n",
       "                   multi_class='auto', n_jobs=None, penalty='l2',\n",
       "                   random_state=None, solver='lbfgs', tol=0.0001, verbose=0,\n",
       "                   warm_start=False)"
      ]
     },
     "execution_count": 13,
     "metadata": {},
     "output_type": "execute_result"
    }
   ],
   "source": [
    "#train our second model witch is Logistic regression\n",
    "from sklearn.linear_model import LogisticRegression\n",
    "LR = LogisticRegression()\n",
    "LR.fit(X_train,y_train)"
   ]
  },
  {
   "cell_type": "code",
   "execution_count": 14,
   "metadata": {},
   "outputs": [
    {
     "name": "stdout",
     "output_type": "stream",
     "text": [
      "Accuracy for Logistic Regression Classifier : 0.819672131147541\n"
     ]
    }
   ],
   "source": [
    "#Model Evaluation\n",
    "y_predicted = LR.predict(X_test)\n",
    "print(\"Accuracy for Logistic Regression Classifier :\",accuracy_score(y_test,y_predicted))"
   ]
  },
  {
   "cell_type": "code",
   "execution_count": 15,
   "metadata": {},
   "outputs": [
    {
     "name": "stdout",
     "output_type": "stream",
     "text": [
      "Precision: 0.775\n",
      "Recall: 0.9393939393939394\n",
      "F1 score: 0.8493150684931509\n",
      "Cross-Validation Score : 83.517%\n",
      "mean error 0.3964644550455839\n"
     ]
    }
   ],
   "source": [
    "#Model Evaluation\n",
    "#Model Precision: what percentage of positive tuples are labeled as such?\n",
    "print(\"Precision:\",metrics.precision_score(y_test, y_predicted))\n",
    "# Model Recall: what percentage of positive tuples are labelled as such?\n",
    "print(\"Recall:\",metrics.recall_score(y_test, y_predicted))\n",
    "# F1 score is defined as the mean between precision and recall\n",
    "print(\"F1 score:\",metrics.f1_score(y_test, y_predicted))\n",
    "cv_score = cross_val_score(LR, X_train, y_train, cv=10, scoring=\"accuracy\")\n",
    "print (\"Cross-Validation Score : %s\" % \"{0:.3%}\".format(np.mean(cv_score)))\n",
    "scores=cross_val_score(LR,X_train,y_train,scoring=\"neg_mean_squared_error\",cv=10)\n",
    "model_rmse_score=np.sqrt(-scores)\n",
    "#Logistic Regression mean error\n",
    "print(\"mean error\",model_rmse_score.mean())"
   ]
  },
  {
   "cell_type": "code",
   "execution_count": 16,
   "metadata": {},
   "outputs": [
    {
     "data": {
      "text/plain": [
       "array([[19,  9],\n",
       "       [ 2, 31]], dtype=int64)"
      ]
     },
     "execution_count": 16,
     "metadata": {},
     "output_type": "execute_result"
    }
   ],
   "source": [
    "#Model Evaluation\n",
    "#viwe the Confusion matrix\n",
    "cm_LR = confusion_matrix(y_test, y_predicted)\n",
    "cm_LR"
   ]
  },
  {
   "cell_type": "code",
   "execution_count": 17,
   "metadata": {},
   "outputs": [
    {
     "data": {
      "text/plain": [
       "Text(69.0, 0.5, 'Truth')"
      ]
     },
     "execution_count": 17,
     "metadata": {},
     "output_type": "execute_result"
    },
    {
     "data": {
      "image/png": "[encoded data removed]",
      "text/plain": [
       "<Figure size 720x504 with 2 Axes>"
      ]
     },
     "metadata": {
      "needs_background": "light"
     },
     "output_type": "display_data"
    }
   ],
   "source": [
    "plt.figure(figsize = (10,7))\n",
    "sn.heatmap(cm_LR, annot=True)\n",
    "plt.xlabel('Predicted')\n",
    "plt.ylabel('Truth')"
   ]
  },
  {
   "cell_type": "code",
   "execution_count": 18,
   "metadata": {},
   "outputs": [
    {
     "data": {
      "text/plain": [
       "SVC(C=1.0, break_ties=False, cache_size=200, class_weight=None, coef0=0.0,\n",
       "    decision_function_shape='ovr', degree=3, gamma='scale', kernel='rbf',\n",
       "    max_iter=-1, probability=False, random_state=None, shrinking=True,\n",
       "    tol=0.001, verbose=False)"
      ]
     },
     "execution_count": 18,
     "metadata": {},
     "output_type": "execute_result"
    }
   ],
   "source": [
    "#train our third model witch is Support vector machines\n",
    "from sklearn.svm import SVC\n",
    "svm = SVC() \n",
    "svm.fit(X_train, y_train)"
   ]
  },
  {
   "cell_type": "code",
   "execution_count": 19,
   "metadata": {},
   "outputs": [
    {
     "name": "stdout",
     "output_type": "stream",
     "text": [
      "Accuracy for Support vector machines Classifier : 0.8360655737704918\n"
     ]
    }
   ],
   "source": [
    "#Model Evaluation\n",
    "y_predicted = svm.predict(X_test)\n",
    "print(\"Accuracy for Support vector machines Classifier :\",accuracy_score(y_test,y_predicted))"
   ]
  },
  {
   "cell_type": "code",
   "execution_count": 20,
   "metadata": {},
   "outputs": [
    {
     "name": "stdout",
     "output_type": "stream",
     "text": [
      "Precision: 0.7948717948717948\n",
      "Recall: 0.9393939393939394\n",
      "F1 score: 0.8611111111111112\n",
      "Cross-Validation Score : 81.817%\n",
      "mean error 0.41634148808659405\n"
     ]
    }
   ],
   "source": [
    "#Model Evaluation\n",
    "#Model Precision: what percentage of positive tuples are labeled as such?\n",
    "print(\"Precision:\",metrics.precision_score(y_test, y_predicted))\n",
    "# Model Recall: what percentage of positive tuples are labelled as such?\n",
    "print(\"Recall:\",metrics.recall_score(y_test, y_predicted))\n",
    "# F1 score is defined as the mean between precision and recall\n",
    "print(\"F1 score:\",metrics.f1_score(y_test, y_predicted))\n",
    "cv_score = cross_val_score(svm, X_train, y_train, cv=10, scoring=\"accuracy\")\n",
    "print (\"Cross-Validation Score : %s\" % \"{0:.3%}\".format(np.mean(cv_score)))\n",
    "scores=cross_val_score(svm,X_train,y_train,scoring=\"neg_mean_squared_error\",cv=10)\n",
    "model_rmse_score=np.sqrt(-scores)\n",
    "#Logistic Regression mean error\n",
    "print(\"mean error\",model_rmse_score.mean())"
   ]
  },
  {
   "cell_type": "code",
   "execution_count": 21,
   "metadata": {},
   "outputs": [
    {
     "data": {
      "text/plain": [
       "array([[20,  8],\n",
       "       [ 2, 31]], dtype=int64)"
      ]
     },
     "execution_count": 21,
     "metadata": {},
     "output_type": "execute_result"
    }
   ],
   "source": [
    "#Model Evaluation\n",
    "#viwe the Confusion matrix\n",
    "cm_svm = confusion_matrix(y_test, y_predicted)\n",
    "cm_svm"
   ]
  },
  {
   "cell_type": "code",
   "execution_count": 22,
   "metadata": {},
   "outputs": [
    {
     "data": {
      "text/plain": [
       "Text(69.0, 0.5, 'Truth')"
      ]
     },
     "execution_count": 22,
     "metadata": {},
     "output_type": "execute_result"
    },
    {
     "data": {
      "image/png": "[encoded data removed]",
      "text/plain": [
       "<Figure size 720x504 with 2 Axes>"
      ]
     },
     "metadata": {
      "needs_background": "light"
     },
     "output_type": "display_data"
    }
   ],
   "source": [
    "plt.figure(figsize = (10,7))\n",
    "sn.heatmap(cm_svm, annot=True)\n",
    "plt.xlabel('Predicted')\n",
    "plt.ylabel('Truth')"
   ]
  },
  {
   "cell_type": "code",
   "execution_count": 23,
   "metadata": {},
   "outputs": [
    {
     "data": {
      "text/plain": [
       "KNeighborsClassifier(algorithm='auto', leaf_size=30, metric='minkowski',\n",
       "                     metric_params=None, n_jobs=None, n_neighbors=5, p=2,\n",
       "                     weights='uniform')"
      ]
     },
     "execution_count": 23,
     "metadata": {},
     "output_type": "execute_result"
    }
   ],
   "source": [
    "#train our fourth model witch is k-nearest neighbors\n",
    "from sklearn.neighbors import KNeighborsClassifier\n",
    "knn = KNeighborsClassifier() \n",
    "knn.fit(X_train, y_train)\n"
   ]
  },
  {
   "cell_type": "code",
   "execution_count": 24,
   "metadata": {},
   "outputs": [
    {
     "name": "stdout",
     "output_type": "stream",
     "text": [
      "Accuracy for k-nearest neighbors Classifier : 0.8032786885245902\n"
     ]
    }
   ],
   "source": [
    "y_predicted = knn.predict(X_test)\n",
    "print(\"Accuracy for k-nearest neighbors Classifier :\",accuracy_score(y_test,y_predicted))"
   ]
  },
  {
   "cell_type": "code",
   "execution_count": 25,
   "metadata": {},
   "outputs": [
    {
     "name": "stdout",
     "output_type": "stream",
     "text": [
      "Precision: 0.7692307692307693\n",
      "Recall: 0.9090909090909091\n",
      "F1 score: 0.8333333333333333\n",
      "Cross-Validation Score : 82.650%\n",
      "mean error 0.402735368484661\n"
     ]
    }
   ],
   "source": [
    "#Model Evaluation\n",
    "#Model Precision: what percentage of positive tuples are labeled as such?\n",
    "print(\"Precision:\",metrics.precision_score(y_test, y_predicted))\n",
    "# Model Recall: what percentage of positive tuples are labelled as such?\n",
    "print(\"Recall:\",metrics.recall_score(y_test, y_predicted))\n",
    "# F1 score is defined as the mean between precision and recall\n",
    "print(\"F1 score:\",metrics.f1_score(y_test, y_predicted))\n",
    "cv_score = cross_val_score(knn, X_train, y_train, cv=10, scoring=\"accuracy\")\n",
    "print (\"Cross-Validation Score : %s\" % \"{0:.3%}\".format(np.mean(cv_score)))\n",
    "scores=cross_val_score(knn,X_train,y_train,scoring=\"neg_mean_squared_error\",cv=10)\n",
    "model_rmse_score=np.sqrt(-scores)\n",
    "# k-nearest neighbors mean error\n",
    "print(\"mean error\",model_rmse_score.mean())"
   ]
  },
  {
   "cell_type": "code",
   "execution_count": 26,
   "metadata": {},
   "outputs": [
    {
     "data": {
      "text/plain": [
       "array([[19,  9],\n",
       "       [ 3, 30]], dtype=int64)"
      ]
     },
     "execution_count": 26,
     "metadata": {},
     "output_type": "execute_result"
    }
   ],
   "source": [
    "cm_knn = confusion_matrix(y_test, y_predicted)\n",
    "cm_knn"
   ]
  },
  {
   "cell_type": "code",
   "execution_count": 27,
   "metadata": {},
   "outputs": [
    {
     "data": {
      "text/plain": [
       "Text(69.0, 0.5, 'Truth')"
      ]
     },
     "execution_count": 27,
     "metadata": {},
     "output_type": "execute_result"
    },
    {
     "data": {
      "image/png": "[encoded data removed]",
      "text/plain": [
       "<Figure size 720x504 with 2 Axes>"
      ]
     },
     "metadata": {
      "needs_background": "light"
     },
     "output_type": "display_data"
    }
   ],
   "source": [
    "plt.figure(figsize = (10,7))\n",
    "sn.heatmap(cm_knn, annot=True)\n",
    "plt.xlabel('Predicted')\n",
    "plt.ylabel('Truth')"
   ]
  },
  {
   "cell_type": "code",
   "execution_count": 28,
   "metadata": {},
   "outputs": [
    {
     "data": {
      "text/plain": [
       "VotingClassifier(estimators=[('LR',\n",
       "                              LogisticRegression(C=1.0, class_weight=None,\n",
       "                                                 dual=False, fit_intercept=True,\n",
       "                                                 intercept_scaling=1,\n",
       "                                                 l1_ratio=None, max_iter=100,\n",
       "                                                 multi_class='auto',\n",
       "                                                 n_jobs=None, penalty='l2',\n",
       "                                                 random_state=None,\n",
       "                                                 solver='lbfgs', tol=0.0001,\n",
       "                                                 verbose=0, warm_start=False)),\n",
       "                             ('knn',\n",
       "                              KNeighborsClassifier(algorithm='auto',\n",
       "                                                   leaf_size=30,\n",
       "                                                   metric='minkowski',\n",
       "                                                   m...\n",
       "                                                     oob_score=False,\n",
       "                                                     random_state=None,\n",
       "                                                     verbose=0,\n",
       "                                                     warm_start=False)),\n",
       "                             ('svm',\n",
       "                              SVC(C=1.0, break_ties=False, cache_size=200,\n",
       "                                  class_weight=None, coef0=0.0,\n",
       "                                  decision_function_shape='ovr', degree=3,\n",
       "                                  gamma='scale', kernel='rbf', max_iter=-1,\n",
       "                                  probability=False, random_state=None,\n",
       "                                  shrinking=True, tol=0.001, verbose=False))],\n",
       "                 flatten_transform=True, n_jobs=None, voting='hard',\n",
       "                 weights=None)"
      ]
     },
     "execution_count": 28,
     "metadata": {},
     "output_type": "execute_result"
    }
   ],
   "source": [
    "from sklearn.ensemble import VotingClassifier\n",
    "Voting_Classifier=VotingClassifier(estimators=[('LR',LR),\n",
    "                                              ('knn',knn),\n",
    "                                               ('RF',RF),\n",
    "                                              ('svm',svm)],voting='hard')\n",
    "Voting_Classifier.fit(X_train, y_train)"
   ]
  },
  {
   "cell_type": "code",
   "execution_count": 29,
   "metadata": {},
   "outputs": [
    {
     "name": "stdout",
     "output_type": "stream",
     "text": [
      "Accuracy for Voting Classifier : 0.8688524590163934\n"
     ]
    }
   ],
   "source": [
    "y_predicted = Voting_Classifier.predict(X_test)\n",
    "#accuracy score\n",
    "print(\"Accuracy for Voting Classifier :\",accuracy_score(y_test,y_predicted))\n"
   ]
  },
  {
   "cell_type": "code",
   "execution_count": 30,
   "metadata": {},
   "outputs": [
    {
     "name": "stdout",
     "output_type": "stream",
     "text": [
      "Precision: 0.8378378378378378\n",
      "Recall: 0.9393939393939394\n",
      "F1 score: 0.8857142857142858\n",
      "Cross-Validation Score : 84.283%\n",
      "mean error 0.37575893143738226\n"
     ]
    }
   ],
   "source": [
    "#Model Evaluation\n",
    "#Model Precision: what percentage of positive tuples are labeled as such?\n",
    "print(\"Precision:\",metrics.precision_score(y_test, y_predicted))\n",
    "# Model Recall: what percentage of positive tuples are labelled as such?\n",
    "print(\"Recall:\",metrics.recall_score(y_test, y_predicted))\n",
    "# F1 score is defined as the mean between precision and recall\n",
    "print(\"F1 score:\",metrics.f1_score(y_test, y_predicted))\n",
    "cv_score = cross_val_score(Voting_Classifier, X_train, y_train, cv=10, scoring=\"accuracy\")\n",
    "print (\"Cross-Validation Score : %s\" % \"{0:.3%}\".format(np.mean(cv_score)))\n",
    "scores=cross_val_score(Voting_Classifier,X_train,y_train,scoring=\"neg_mean_squared_error\",cv=10)\n",
    "model_rmse_score=np.sqrt(-scores)\n",
    "#Voting Classifie mean error\n",
    "print(\"mean error\",model_rmse_score.mean())"
   ]
  },
  {
   "cell_type": "code",
   "execution_count": 31,
   "metadata": {},
   "outputs": [
    {
     "data": {
      "text/plain": [
       "array([[22,  6],\n",
       "       [ 2, 31]], dtype=int64)"
      ]
     },
     "execution_count": 31,
     "metadata": {},
     "output_type": "execute_result"
    }
   ],
   "source": [
    "cm_VC= confusion_matrix(y_test, y_predicted)\n",
    "cm_VC"
   ]
  },
  {
   "cell_type": "code",
   "execution_count": 32,
   "metadata": {},
   "outputs": [
    {
     "data": {
      "text/plain": [
       "Text(69.0, 0.5, 'Truth')"
      ]
     },
     "execution_count": 32,
     "metadata": {},
     "output_type": "execute_result"
    },
    {
     "data": {
      "image/png": "[encoded data removed]",
      "text/plain": [
       "<Figure size 720x504 with 2 Axes>"
      ]
     },
     "metadata": {
      "needs_background": "light"
     },
     "output_type": "display_data"
    }
   ],
   "source": [
    "plt.figure(figsize = (10,7))\n",
    "sn.heatmap(cm_VC, annot=True)\n",
    "plt.xlabel('Predicted')\n",
    "plt.ylabel('Truth')"
   ]
  },
  {
   "cell_type": "code",
   "execution_count": 33,
   "metadata": {},
   "outputs": [
    {
     "name": "stderr",
     "output_type": "stream",
     "text": [
      "Using TensorFlow backend.\n",
      "C:\\Users\\HP\\Anaconda3\\lib\\site-packages\\ipykernel_launcher.py:7: UserWarning: Update your `Dense` call to the Keras 2 API: `Dense(activation=\"relu\", input_shape=(13,), units=7)`\n",
      "  import sys\n",
      "C:\\Users\\HP\\Anaconda3\\lib\\site-packages\\ipykernel_launcher.py:11: UserWarning: Update your `Dense` call to the Keras 2 API: `Dense(activation=\"relu\", units=7)`\n",
      "  # This is added back by InteractiveShellApp.init_path()\n",
      "C:\\Users\\HP\\Anaconda3\\lib\\site-packages\\ipykernel_launcher.py:14: UserWarning: Update your `Dense` call to the Keras 2 API: `Dense(activation=\"sigmoid\", units=1)`\n",
      "  \n"
     ]
    }
   ],
   "source": [
    "from keras.models import Sequential\n",
    "from keras.layers import Dense\n",
    "classifier = Sequential()\n",
    "\n",
    "# Adding the input layer and the first hidden layer\n",
    "#output_dim is number of node \n",
    "classifier.add(Dense(output_dim = 7,  activation = 'relu', input_shape=(13,)))\n",
    "\n",
    "# Adding the second hidden layer\n",
    "\n",
    "classifier.add(Dense(output_dim = 7, activation = 'relu'))\n",
    "\n",
    "# Adding the output layer and use sigmoid activation function because we have binary predictions.\n",
    "classifier.add(Dense(output_dim = 1, activation = 'sigmoid'))\n",
    "\n",
    "# Compiling the ANN\n",
    "#we have binary output we will use binary_crossentropy as loss function\n",
    "classifier.compile(optimizer = 'adam', loss = 'binary_crossentropy', metrics = ['accuracy'])"
   ]
  },
  {
   "cell_type": "code",
   "execution_count": 34,
   "metadata": {},
   "outputs": [
    {
     "name": "stderr",
     "output_type": "stream",
     "text": [
      "C:\\Users\\HP\\Anaconda3\\lib\\site-packages\\ipykernel_launcher.py:1: UserWarning: The `nb_epoch` argument in `fit` has been renamed `epochs`.\n",
      "  \"\"\"Entry point for launching an IPython kernel.\n"
     ]
    },
    {
     "name": "stdout",
     "output_type": "stream",
     "text": [
      "Epoch 1/100\n",
      "242/242 [==============================] - 0s 953us/step - loss: 0.6587 - accuracy: 0.5785\n",
      "Epoch 2/100\n",
      "242/242 [==============================] - 0s 49us/step - loss: 0.6483 - accuracy: 0.6074\n",
      "Epoch 3/100\n",
      "242/242 [==============================] - 0s 49us/step - loss: 0.6391 - accuracy: 0.6364\n",
      "Epoch 4/100\n",
      "242/242 [==============================] - 0s 49us/step - loss: 0.6304 - accuracy: 0.6653\n",
      "Epoch 5/100\n",
      "242/242 [==============================] - 0s 45us/step - loss: 0.6217 - accuracy: 0.6901\n",
      "Epoch 6/100\n",
      "242/242 [==============================] - 0s 49us/step - loss: 0.6131 - accuracy: 0.7107\n",
      "Epoch 7/100\n",
      "242/242 [==============================] - 0s 54us/step - loss: 0.6049 - accuracy: 0.7273\n",
      "Epoch 8/100\n",
      "242/242 [==============================] - 0s 62us/step - loss: 0.5966 - accuracy: 0.7355\n",
      "Epoch 9/100\n",
      "242/242 [==============================] - 0s 49us/step - loss: 0.5881 - accuracy: 0.7438\n",
      "Epoch 10/100\n",
      "242/242 [==============================] - 0s 49us/step - loss: 0.5803 - accuracy: 0.7479\n",
      "Epoch 11/100\n",
      "242/242 [==============================] - 0s 45us/step - loss: 0.5724 - accuracy: 0.7438\n",
      "Epoch 12/100\n",
      "242/242 [==============================] - 0s 37us/step - loss: 0.5647 - accuracy: 0.7603\n",
      "Epoch 13/100\n",
      "242/242 [==============================] - 0s 45us/step - loss: 0.5573 - accuracy: 0.7562\n",
      "Epoch 14/100\n",
      "242/242 [==============================] - 0s 45us/step - loss: 0.5502 - accuracy: 0.7521\n",
      "Epoch 15/100\n",
      "242/242 [==============================] - 0s 58us/step - loss: 0.5430 - accuracy: 0.7521\n",
      "Epoch 16/100\n",
      "242/242 [==============================] - 0s 33us/step - loss: 0.5363 - accuracy: 0.7562\n",
      "Epoch 17/100\n",
      "242/242 [==============================] - 0s 44us/step - loss: 0.5287 - accuracy: 0.7603\n",
      "Epoch 18/100\n",
      "242/242 [==============================] - 0s 41us/step - loss: 0.5216 - accuracy: 0.7603\n",
      "Epoch 19/100\n",
      "242/242 [==============================] - 0s 45us/step - loss: 0.5150 - accuracy: 0.7686\n",
      "Epoch 20/100\n",
      "242/242 [==============================] - 0s 33us/step - loss: 0.5080 - accuracy: 0.7645\n",
      "Epoch 21/100\n",
      "242/242 [==============================] - 0s 41us/step - loss: 0.5012 - accuracy: 0.7645\n",
      "Epoch 22/100\n",
      "242/242 [==============================] - 0s 41us/step - loss: 0.4941 - accuracy: 0.7645\n",
      "Epoch 23/100\n",
      "242/242 [==============================] - 0s 33us/step - loss: 0.4874 - accuracy: 0.7727\n",
      "Epoch 24/100\n",
      "242/242 [==============================] - 0s 41us/step - loss: 0.4809 - accuracy: 0.7727\n",
      "Epoch 25/100\n",
      "242/242 [==============================] - 0s 45us/step - loss: 0.4742 - accuracy: 0.7727\n",
      "Epoch 26/100\n",
      "242/242 [==============================] - 0s 33us/step - loss: 0.4683 - accuracy: 0.7769\n",
      "Epoch 27/100\n",
      "242/242 [==============================] - 0s 45us/step - loss: 0.4623 - accuracy: 0.7769\n",
      "Epoch 28/100\n",
      "242/242 [==============================] - 0s 45us/step - loss: 0.4560 - accuracy: 0.7893\n",
      "Epoch 29/100\n",
      "242/242 [==============================] - 0s 37us/step - loss: 0.4500 - accuracy: 0.7893\n",
      "Epoch 30/100\n",
      "242/242 [==============================] - 0s 33us/step - loss: 0.4439 - accuracy: 0.7934\n",
      "Epoch 31/100\n",
      "242/242 [==============================] - 0s 41us/step - loss: 0.4383 - accuracy: 0.7893\n",
      "Epoch 32/100\n",
      "242/242 [==============================] - 0s 41us/step - loss: 0.4325 - accuracy: 0.7851\n",
      "Epoch 33/100\n",
      "242/242 [==============================] - 0s 37us/step - loss: 0.4268 - accuracy: 0.7893\n",
      "Epoch 34/100\n",
      "242/242 [==============================] - 0s 45us/step - loss: 0.4214 - accuracy: 0.7975\n",
      "Epoch 35/100\n",
      "242/242 [==============================] - 0s 45us/step - loss: 0.4157 - accuracy: 0.8017\n",
      "Epoch 36/100\n",
      "242/242 [==============================] - 0s 37us/step - loss: 0.4110 - accuracy: 0.8058\n",
      "Epoch 37/100\n",
      "242/242 [==============================] - 0s 45us/step - loss: 0.4052 - accuracy: 0.8058\n",
      "Epoch 38/100\n",
      "242/242 [==============================] - 0s 41us/step - loss: 0.4003 - accuracy: 0.8058\n",
      "Epoch 39/100\n",
      "242/242 [==============================] - 0s 33us/step - loss: 0.3960 - accuracy: 0.8140\n",
      "Epoch 40/100\n",
      "242/242 [==============================] - 0s 45us/step - loss: 0.3912 - accuracy: 0.8223\n",
      "Epoch 41/100\n",
      "242/242 [==============================] - 0s 45us/step - loss: 0.3866 - accuracy: 0.8223\n",
      "Epoch 42/100\n",
      "242/242 [==============================] - 0s 37us/step - loss: 0.3823 - accuracy: 0.8264\n",
      "Epoch 43/100\n",
      "242/242 [==============================] - 0s 33us/step - loss: 0.3780 - accuracy: 0.8306\n",
      "Epoch 44/100\n",
      "242/242 [==============================] - 0s 49us/step - loss: 0.3740 - accuracy: 0.8306\n",
      "Epoch 45/100\n",
      "242/242 [==============================] - 0s 41us/step - loss: 0.3701 - accuracy: 0.8306\n",
      "Epoch 46/100\n",
      "242/242 [==============================] - 0s 33us/step - loss: 0.3663 - accuracy: 0.8347\n",
      "Epoch 47/100\n",
      "242/242 [==============================] - 0s 41us/step - loss: 0.3624 - accuracy: 0.8347\n",
      "Epoch 48/100\n",
      "242/242 [==============================] - 0s 41us/step - loss: 0.3586 - accuracy: 0.8347\n",
      "Epoch 49/100\n",
      "242/242 [==============================] - 0s 29us/step - loss: 0.3552 - accuracy: 0.8388\n",
      "Epoch 50/100\n",
      "242/242 [==============================] - 0s 49us/step - loss: 0.3517 - accuracy: 0.8388\n",
      "Epoch 51/100\n",
      "242/242 [==============================] - 0s 49us/step - loss: 0.3483 - accuracy: 0.8471\n",
      "Epoch 52/100\n",
      "242/242 [==============================] - 0s 41us/step - loss: 0.3452 - accuracy: 0.8554\n",
      "Epoch 53/100\n",
      "242/242 [==============================] - 0s 37us/step - loss: 0.3418 - accuracy: 0.8595\n",
      "Epoch 54/100\n",
      "242/242 [==============================] - 0s 45us/step - loss: 0.3385 - accuracy: 0.8636\n",
      "Epoch 55/100\n",
      "242/242 [==============================] - 0s 49us/step - loss: 0.3356 - accuracy: 0.8719\n",
      "Epoch 56/100\n",
      "242/242 [==============================] - 0s 41us/step - loss: 0.3325 - accuracy: 0.8719\n",
      "Epoch 57/100\n",
      "242/242 [==============================] - 0s 37us/step - loss: 0.3296 - accuracy: 0.8719\n",
      "Epoch 58/100\n",
      "242/242 [==============================] - 0s 49us/step - loss: 0.3268 - accuracy: 0.8719\n",
      "Epoch 59/100\n",
      "242/242 [==============================] - 0s 41us/step - loss: 0.3240 - accuracy: 0.8719\n",
      "Epoch 60/100\n",
      "242/242 [==============================] - 0s 33us/step - loss: 0.3210 - accuracy: 0.8719\n",
      "Epoch 61/100\n",
      "242/242 [==============================] - 0s 37us/step - loss: 0.3187 - accuracy: 0.8719\n",
      "Epoch 62/100\n",
      "242/242 [==============================] - 0s 41us/step - loss: 0.3157 - accuracy: 0.8802\n",
      "Epoch 63/100\n",
      "242/242 [==============================] - 0s 33us/step - loss: 0.3135 - accuracy: 0.8802\n",
      "Epoch 64/100\n",
      "242/242 [==============================] - 0s 37us/step - loss: 0.3106 - accuracy: 0.8802\n",
      "Epoch 65/100\n",
      "242/242 [==============================] - 0s 41us/step - loss: 0.3080 - accuracy: 0.8802\n",
      "Epoch 66/100\n",
      "242/242 [==============================] - 0s 29us/step - loss: 0.3057 - accuracy: 0.8802\n",
      "Epoch 67/100\n",
      "242/242 [==============================] - 0s 41us/step - loss: 0.3036 - accuracy: 0.8843\n",
      "Epoch 68/100\n",
      "242/242 [==============================] - 0s 41us/step - loss: 0.3012 - accuracy: 0.8884\n",
      "Epoch 69/100\n",
      "242/242 [==============================] - 0s 33us/step - loss: 0.2989 - accuracy: 0.8884\n",
      "Epoch 70/100\n",
      "242/242 [==============================] - 0s 41us/step - loss: 0.2964 - accuracy: 0.8884\n",
      "Epoch 71/100\n",
      "242/242 [==============================] - 0s 37us/step - loss: 0.2942 - accuracy: 0.8884\n",
      "Epoch 72/100\n",
      "242/242 [==============================] - 0s 33us/step - loss: 0.2920 - accuracy: 0.8884\n",
      "Epoch 73/100\n",
      "242/242 [==============================] - 0s 41us/step - loss: 0.2897 - accuracy: 0.8884\n",
      "Epoch 74/100\n",
      "242/242 [==============================] - 0s 33us/step - loss: 0.2877 - accuracy: 0.8843\n",
      "Epoch 75/100\n",
      "242/242 [==============================] - 0s 33us/step - loss: 0.2858 - accuracy: 0.8843\n",
      "Epoch 76/100\n",
      "242/242 [==============================] - ETA: 0s - loss: 0.2520 - accuracy: 0.84 - 0s 41us/step - loss: 0.2838 - accuracy: 0.8843\n",
      "Epoch 77/100\n",
      "242/242 [==============================] - 0s 33us/step - loss: 0.2821 - accuracy: 0.8884\n",
      "Epoch 78/100\n",
      "242/242 [==============================] - 0s 37us/step - loss: 0.2803 - accuracy: 0.8884\n",
      "Epoch 79/100\n",
      "242/242 [==============================] - 0s 41us/step - loss: 0.2784 - accuracy: 0.8884\n",
      "Epoch 80/100\n",
      "242/242 [==============================] - 0s 33us/step - loss: 0.2764 - accuracy: 0.8884\n",
      "Epoch 81/100\n",
      "242/242 [==============================] - 0s 37us/step - loss: 0.2747 - accuracy: 0.8884\n",
      "Epoch 82/100\n",
      "242/242 [==============================] - 0s 37us/step - loss: 0.2729 - accuracy: 0.8926\n",
      "Epoch 83/100\n",
      "242/242 [==============================] - 0s 29us/step - loss: 0.2712 - accuracy: 0.8926\n",
      "Epoch 84/100\n",
      "242/242 [==============================] - 0s 36us/step - loss: 0.2697 - accuracy: 0.8926\n",
      "Epoch 85/100\n",
      "242/242 [==============================] - 0s 33us/step - loss: 0.2681 - accuracy: 0.8926\n",
      "Epoch 86/100\n",
      "242/242 [==============================] - 0s 37us/step - loss: 0.2665 - accuracy: 0.8926\n",
      "Epoch 87/100\n",
      "242/242 [==============================] - 0s 29us/step - loss: 0.2648 - accuracy: 0.8926\n",
      "Epoch 88/100\n",
      "242/242 [==============================] - 0s 33us/step - loss: 0.2635 - accuracy: 0.8926\n",
      "Epoch 89/100\n",
      "242/242 [==============================] - 0s 33us/step - loss: 0.2616 - accuracy: 0.8926\n",
      "Epoch 90/100\n",
      "242/242 [==============================] - 0s 29us/step - loss: 0.2600 - accuracy: 0.8926\n",
      "Epoch 91/100\n",
      "242/242 [==============================] - 0s 37us/step - loss: 0.2586 - accuracy: 0.8926\n",
      "Epoch 92/100\n",
      "242/242 [==============================] - 0s 29us/step - loss: 0.2571 - accuracy: 0.8926\n",
      "Epoch 93/100\n",
      "242/242 [==============================] - 0s 37us/step - loss: 0.2555 - accuracy: 0.8926\n",
      "Epoch 94/100\n",
      "242/242 [==============================] - 0s 37us/step - loss: 0.2538 - accuracy: 0.8926\n",
      "Epoch 95/100\n",
      "242/242 [==============================] - 0s 29us/step - loss: 0.2525 - accuracy: 0.8967\n",
      "Epoch 96/100\n",
      "242/242 [==============================] - 0s 41us/step - loss: 0.2507 - accuracy: 0.8967\n",
      "Epoch 97/100\n",
      "242/242 [==============================] - 0s 29us/step - loss: 0.2492 - accuracy: 0.9008\n",
      "Epoch 98/100\n",
      "242/242 [==============================] - 0s 33us/step - loss: 0.2479 - accuracy: 0.9008\n",
      "Epoch 99/100\n",
      "242/242 [==============================] - 0s 37us/step - loss: 0.2463 - accuracy: 0.9050\n",
      "Epoch 100/100\n",
      "242/242 [==============================] - 0s 29us/step - loss: 0.2449 - accuracy: 0.9050\n"
     ]
    },
    {
     "data": {
      "text/plain": [
       "<keras.callbacks.callbacks.History at 0x228d6c1ca08>"
      ]
     },
     "execution_count": 34,
     "metadata": {},
     "output_type": "execute_result"
    }
   ],
   "source": [
    "classifier.fit(X_train, y_train, nb_epoch =100)"
   ]
  },
  {
   "cell_type": "code",
   "execution_count": 35,
   "metadata": {},
   "outputs": [
    {
     "name": "stdout",
     "output_type": "stream",
     "text": [
      "Accuracy for Artificial neural network : 0.819672131147541\n"
     ]
    }
   ],
   "source": [
    "y_predicted = classifier.predict(X_test).round()\n",
    "#accuracy score\n",
    "print(\"Accuracy for Artificial neural network :\",accuracy_score(y_test,y_predicted))\n"
   ]
  },
  {
   "cell_type": "code",
   "execution_count": 36,
   "metadata": {},
   "outputs": [
    {
     "name": "stdout",
     "output_type": "stream",
     "text": [
      "Precision: 0.775\n",
      "Recall: 0.9393939393939394\n",
      "F1 score: 0.8493150684931509\n"
     ]
    }
   ],
   "source": [
    "#Model Evaluation\n",
    "#Model Precision: what percentage of positive tuples are labeled as such?\n",
    "print(\"Precision:\",metrics.precision_score(y_test, y_predicted))\n",
    "# Model Recall: what percentage of positive tuples are labelled as such?\n",
    "print(\"Recall:\",metrics.recall_score(y_test, y_predicted))\n",
    "# F1 score is defined as the mean between precision and recall\n",
    "print(\"F1 score:\",metrics.f1_score(y_test, y_predicted))"
   ]
  },
  {
   "cell_type": "code",
   "execution_count": 37,
   "metadata": {},
   "outputs": [
    {
     "data": {
      "text/plain": [
       "array([[19,  9],\n",
       "       [ 2, 31]], dtype=int64)"
      ]
     },
     "execution_count": 37,
     "metadata": {},
     "output_type": "execute_result"
    }
   ],
   "source": [
    "cm6 = confusion_matrix(y_test, y_predicted)\n",
    "cm6"
   ]
  },
  {
   "cell_type": "code",
   "execution_count": 38,
   "metadata": {},
   "outputs": [
    {
     "data": {
      "text/plain": [
       "Text(69.0, 0.5, 'Truth')"
      ]
     },
     "execution_count": 38,
     "metadata": {},
     "output_type": "execute_result"
    },
    {
     "data": {
      "image/png": "[encoded data removed]",
      "text/plain": [
       "<Figure size 720x504 with 2 Axes>"
      ]
     },
     "metadata": {
      "needs_background": "light"
     },
     "output_type": "display_data"
    }
   ],
   "source": [
    "plt.figure(figsize = (10,7))\n",
    "sn.heatmap(cm6, annot=True)\n",
    "plt.xlabel('Predicted')\n",
    "plt.ylabel('Truth')"
   ]
  },
  {
   "cell_type": "code",
   "execution_count": null,
   "metadata": {},
   "outputs": [],
   "source": []
  }
 ],
 "metadata": {
  "kernelspec": {
   "display_name": "Python 3",
   "language": "python",
   "name": "python3"
  },
  "language_info": {
   "codemirror_mode": {
    "name": "ipython",
    "version": 3
   },
   "file_extension": ".py",
   "mimetype": "text/x-python",
   "name": "python",
   "nbconvert_exporter": "python",
   "pygments_lexer": "ipython3",
   "version": "3.8.8"
  }
 },
 "nbformat": 4,
 "nbformat_minor": 2
}
